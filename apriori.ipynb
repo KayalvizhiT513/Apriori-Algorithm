{
  "nbformat": 4,
  "nbformat_minor": 0,
  "metadata": {
    "colab": {
      "provenance": [],
      "include_colab_link": true
    },
    "kernelspec": {
      "name": "python3",
      "display_name": "Python 3"
    },
    "language_info": {
      "name": "python"
    }
  },
  "cells": [
    {
      "cell_type": "markdown",
      "metadata": {
        "id": "view-in-github",
        "colab_type": "text"
      },
      "source": [
        "<a href=\"https://colab.research.google.com/github/KayalvizhiT513/Apriori-Algorithm/blob/main/apriori.ipynb\" target=\"_parent\"><img src=\"https://colab.research.google.com/assets/colab-badge.svg\" alt=\"Open In Colab\"/></a>"
      ]
    },
    {
      "cell_type": "code",
      "source": [
        "import numpy as np\n",
        "import pandas as pd"
      ],
      "metadata": {
        "id": "9eUrbnKGcWdL"
      },
      "execution_count": 6,
      "outputs": []
    },
    {
      "cell_type": "code",
      "execution_count": 1,
      "metadata": {
        "id": "wrO0dyGSUXAF"
      },
      "outputs": [],
      "source": [
        "def generate_association_rules(frequent_itemsets, transactions, min_confidence):\n",
        "    \"\"\"\n",
        "    Generate association rules from frequent itemsets.\n",
        "\n",
        "    Parameters:\n",
        "        frequent_itemsets (list of lists): List of frequent itemsets obtained from Apriori algorithm.\n",
        "        transactions (list of lists): List of transactions, where each transaction is a list of items.\n",
        "        min_confidence (float): Minimum confidence threshold.\n",
        "\n",
        "    Returns:\n",
        "        list: List of association rules in the format (X, Y, confidence).\n",
        "    \"\"\"\n",
        "    association_rules = []\n",
        "\n",
        "    for itemset in frequent_itemsets:\n",
        "        if len(itemset) > 1:\n",
        "            for i in range(1, len(itemset)):\n",
        "                antecedent = itemset[:i]\n",
        "                consequent = itemset[i:]\n",
        "\n",
        "                support_antecedent = sum(1 for transaction in transactions if set(antecedent).issubset(set(transaction)))\n",
        "                support_itemset = sum(1 for transaction in transactions if set(itemset).issubset(set(transaction)))\n",
        "\n",
        "                confidence = support_itemset / support_antecedent\n",
        "\n",
        "                if confidence >= min_confidence:\n",
        "                    association_rules.append((antecedent, consequent, confidence))\n",
        "\n",
        "    return association_rules\n",
        "\n",
        "\n",
        "def apriori(transactions, min_support):\n",
        "    \"\"\"\n",
        "    Perform the Apriori algorithm to find frequent itemsets.\n",
        "\n",
        "    Parameters:\n",
        "        transactions (list of lists): List of transactions, where each transaction is a list of items.\n",
        "        min_support (float): Minimum support threshold.\n",
        "\n",
        "    Returns:\n",
        "        list: List of frequent itemsets.\n",
        "    \"\"\"\n",
        "    item_counts = {}\n",
        "    n_transactions = len(transactions)\n",
        "\n",
        "    # Count occurrences of each item\n",
        "    for transaction in transactions:\n",
        "        for item in transaction:\n",
        "            item_counts[item] = item_counts.get(item, 0) + 1\n",
        "    print(item_counts)\n",
        "\n",
        "    # Find frequent 1-itemsets\n",
        "    frequent_sets = [[item] for item, count in item_counts.items() if count >= min_support]\n",
        "    print(frequent_sets)\n",
        "\n",
        "    k = 2\n",
        "    candidates = []\n",
        "    while frequent_sets:\n",
        "        candidates = generate_candidates(frequent_sets, k)\n",
        "        print(\"op\",candidates)\n",
        "\n",
        "        # Count occurrences of candidates in transactions\n",
        "        candidate_counts = {tuple(candidate): 0 for candidate in candidates}\n",
        "\n",
        "        for transaction in transactions:\n",
        "            for candidate in candidates:\n",
        "                if set(candidate).issubset(set(transaction)):\n",
        "                    candidate_counts[tuple(candidate)] += 1\n",
        "\n",
        "        # Prune candidates that do not meet minimum support\n",
        "        frequent_sets = [list(candidate) for candidate, count in candidate_counts.items() if count >= min_support]\n",
        "\n",
        "        k += 1\n",
        "        # Generating association rules\n",
        "        association_rules = generate_association_rules(candidates, transactions, min_confidence)\n",
        "\n",
        "        # Print association rules\n",
        "        print(\"Association Rules:\")\n",
        "        for rule in association_rules:\n",
        "            print(rule)\n",
        "\n",
        "    return candidates\n",
        "\n"
      ]
    },
    {
      "cell_type": "code",
      "source": [
        "def generate_candidates(prev_candidates, k):\n",
        "    \"\"\"\n",
        "    Generate candidate itemsets of size k from the previous frequent itemsets.\n",
        "\n",
        "    Parameters:\n",
        "        prev_candidates (list): Previous frequent itemsets.\n",
        "        k (int): Size of the candidate itemsets to be generated.\n",
        "\n",
        "    Returns:\n",
        "        list: Candidate itemsets of size k.\n",
        "    \"\"\"\n",
        "    candidates = []\n",
        "    n = len(prev_candidates)\n",
        "\n",
        "    # Generate candidates by joining previous frequent itemsets\n",
        "    for i in range(n):\n",
        "        for j in range(i + 1, n):\n",
        "            prev_set1 = prev_candidates[i]\n",
        "            prev_set2 = prev_candidates[j]\n",
        "\n",
        "            # Ensure the first k-2 elements are the same in both sets before joining\n",
        "            if prev_set1[:k - 2] == prev_set2[:k - 2]:\n",
        "                candidates.append(sorted(list(set(prev_set1) | set(prev_set2))))\n",
        "\n",
        "    return candidates\n",
        "\n",
        "\n",
        "def prune_candidates(candidates, prev_frequent_sets, k):\n",
        "    \"\"\"\n",
        "    Prune candidate itemsets that contain subsets not in the previous frequent itemsets.\n",
        "\n",
        "    Parameters:\n",
        "        candidates (list): Candidate itemsets to be pruned.\n",
        "        prev_frequent_sets (list): Previous frequent itemsets.\n",
        "        k (int): Size of the candidate itemsets.\n",
        "\n",
        "    Returns:\n",
        "        list: Pruned candidate itemsets.\n",
        "    \"\"\"\n",
        "    pruned_candidates = []\n",
        "\n",
        "    for candidate in candidates:\n",
        "        subsets = [candidate[:i] + candidate[i + 1:] for i in range(k)]\n",
        "        if all(subset in prev_frequent_sets for subset in subsets):\n",
        "            pruned_candidates.append(candidate)\n",
        "\n",
        "    return pruned_candidates\n",
        "\n",
        "\n",
        "def generate_association_rules(frequent_itemsets, transactions, min_confidence):\n",
        "    \"\"\"\n",
        "    Generate association rules from frequent itemsets.\n",
        "\n",
        "    Parameters:\n",
        "        frequent_itemsets (list of lists): List of frequent itemsets obtained from Apriori algorithm.\n",
        "        transactions (list of lists): List of transactions, where each transaction is a list of items.\n",
        "        min_confidence (float): Minimum confidence threshold.\n",
        "\n",
        "    Returns:\n",
        "        list: List of association rules in the format (X, Y, confidence).\n",
        "    \"\"\"\n",
        "\n",
        "    association_rules = []\n",
        "    print(\"Frequent Itemset:\",frequent_itemsets)\n",
        "    for itemset in frequent_itemsets:\n",
        "        if len(itemset) > 1:\n",
        "            for i in range(1, len(itemset)):\n",
        "                antecedent = itemset[:i]\n",
        "                consequent = itemset[i:]\n",
        "\n",
        "                support_antecedent = sum(1 for transaction in transactions if set(antecedent).issubset(set(transaction)))\n",
        "                support_itemset = sum(1 for transaction in transactions if set(itemset).issubset(set(transaction)))\n",
        "\n",
        "                confidence = support_itemset / support_antecedent\n",
        "                #print(\"antecedant\",antecedent,\"consequent\",consequent,\"confidence\",confidence)\n",
        "\n",
        "                if confidence >= min_confidence:\n",
        "                    association_rules.append((antecedent, consequent, confidence))\n",
        "\n",
        "    return association_rules\n",
        "\n",
        "\n"
      ],
      "metadata": {
        "id": "YiwoXM-vUboq"
      },
      "execution_count": 3,
      "outputs": []
    },
    {
      "cell_type": "code",
      "source": [
        "# Example usage:\n",
        "transactions = [['bread', 'milk'],\n",
        "                ['bread', 'diaper', 'beer', 'eggs'],\n",
        "                ['milk', 'diaper', 'beer', 'cola'],\n",
        "                ['bread', 'milk', 'diaper', 'beer'],\n",
        "                ['bread', 'milk', 'diaper', 'cola']]\n",
        "\n",
        "min_support = 3"
      ],
      "metadata": {
        "id": "iw5djNiZ939C"
      },
      "execution_count": 10,
      "outputs": []
    },
    {
      "cell_type": "code",
      "source": [
        "frequent_itemsets = apriori(transactions, min_support)\n",
        "print(\"Frequent Itemsets:\")\n",
        "print(frequent_itemsets)"
      ],
      "metadata": {
        "colab": {
          "base_uri": "https://localhost:8080/"
        },
        "id": "7hQnPAiJpaS8",
        "outputId": "4913525d-8521-4210-bfea-a3598b1b15ab"
      },
      "execution_count": 11,
      "outputs": [
        {
          "output_type": "stream",
          "name": "stdout",
          "text": [
            "{'bread': 4, 'milk': 4, 'diaper': 4, 'beer': 3, 'eggs': 1, 'cola': 2}\n",
            "[['bread'], ['milk'], ['diaper'], ['beer']]\n",
            "op [['bread', 'milk'], ['bread', 'diaper'], ['beer', 'bread'], ['diaper', 'milk'], ['beer', 'milk'], ['beer', 'diaper']]\n",
            "Frequent Itemset: [['bread', 'milk'], ['bread', 'diaper'], ['beer', 'bread'], ['diaper', 'milk'], ['beer', 'milk'], ['beer', 'diaper']]\n",
            "Association Rules:\n",
            "(['bread'], ['milk'], 0.75)\n",
            "(['bread'], ['diaper'], 0.75)\n",
            "(['beer'], ['bread'], 0.6666666666666666)\n",
            "(['diaper'], ['milk'], 0.75)\n",
            "(['beer'], ['milk'], 0.6666666666666666)\n",
            "(['beer'], ['diaper'], 1.0)\n",
            "op [['bread', 'diaper', 'milk']]\n",
            "Frequent Itemset: [['bread', 'diaper', 'milk']]\n",
            "Association Rules:\n",
            "(['bread'], ['diaper', 'milk'], 0.5)\n",
            "(['bread', 'diaper'], ['milk'], 0.6666666666666666)\n",
            "Frequent Itemsets:\n",
            "[['bread', 'diaper', 'milk']]\n"
          ]
        }
      ]
    },
    {
      "cell_type": "code",
      "source": [
        "min_support = 3\n",
        "min_confidence = 0.5\n",
        "\n",
        "# Generating association rules\n",
        "association_rules = generate_association_rules(frequent_itemsets, transactions, min_confidence)\n",
        "\n",
        "# Print association rules\n",
        "print(\"Association Rules:\")\n",
        "for rule in association_rules:\n",
        "    print(rule)\n"
      ],
      "metadata": {
        "colab": {
          "base_uri": "https://localhost:8080/"
        },
        "id": "C9p93pO3pkWP",
        "outputId": "43107083-e436-45d4-bfc1-0c2bb3142c5c"
      },
      "execution_count": 12,
      "outputs": [
        {
          "output_type": "stream",
          "name": "stdout",
          "text": [
            "Frequent Itemset: [['bread', 'diaper', 'milk']]\n",
            "Association Rules:\n",
            "(['bread'], ['diaper', 'milk'], 0.5)\n",
            "(['bread', 'diaper'], ['milk'], 0.6666666666666666)\n"
          ]
        }
      ]
    },
    {
      "cell_type": "code",
      "source": [
        "transactions = [['ROE', 'Return'],\n",
        "                ['ROE', 'Cov', 'Dietz Ret', 'PE'],\n",
        "                ['Return', 'Cov', 'Dietz Ret', 'IRR'],\n",
        "                ['ROE', 'Return', 'Cov', 'Dietz Ret'],\n",
        "                ['ROE', 'Return', 'Cov', 'IRR']]\n",
        "\n",
        "min_support = 3"
      ],
      "metadata": {
        "id": "x2u8tUxcoo17"
      },
      "execution_count": 13,
      "outputs": []
    },
    {
      "cell_type": "code",
      "source": [
        "frequent_itemsets = apriori(transactions, min_support)\n",
        "print(\"Frequent Itemsets:\")\n",
        "print(frequent_itemsets)\n"
      ],
      "metadata": {
        "colab": {
          "base_uri": "https://localhost:8080/"
        },
        "id": "TmEQMSag9_NR",
        "outputId": "2af36d91-0a6f-454c-d351-468b961d6900"
      },
      "execution_count": 14,
      "outputs": [
        {
          "output_type": "stream",
          "name": "stdout",
          "text": [
            "{'ROE': 4, 'Return': 4, 'Cov': 4, 'Dietz Ret': 3, 'PE': 1, 'IRR': 2}\n",
            "[['ROE'], ['Return'], ['Cov'], ['Dietz Ret']]\n",
            "op [['ROE', 'Return'], ['Cov', 'ROE'], ['Dietz Ret', 'ROE'], ['Cov', 'Return'], ['Dietz Ret', 'Return'], ['Cov', 'Dietz Ret']]\n",
            "Frequent Itemset: [['ROE', 'Return'], ['Cov', 'ROE'], ['Dietz Ret', 'ROE'], ['Cov', 'Return'], ['Dietz Ret', 'Return'], ['Cov', 'Dietz Ret']]\n",
            "Association Rules:\n",
            "(['ROE'], ['Return'], 0.75)\n",
            "(['Cov'], ['ROE'], 0.75)\n",
            "(['Dietz Ret'], ['ROE'], 0.6666666666666666)\n",
            "(['Cov'], ['Return'], 0.75)\n",
            "(['Dietz Ret'], ['Return'], 0.6666666666666666)\n",
            "(['Cov'], ['Dietz Ret'], 0.75)\n",
            "op [['Cov', 'ROE', 'Return'], ['Cov', 'Dietz Ret', 'ROE'], ['Cov', 'Dietz Ret', 'Return']]\n",
            "Frequent Itemset: [['Cov', 'ROE', 'Return'], ['Cov', 'Dietz Ret', 'ROE'], ['Cov', 'Dietz Ret', 'Return']]\n",
            "Association Rules:\n",
            "(['Cov'], ['ROE', 'Return'], 0.5)\n",
            "(['Cov', 'ROE'], ['Return'], 0.6666666666666666)\n",
            "(['Cov'], ['Dietz Ret', 'ROE'], 0.5)\n",
            "(['Cov', 'Dietz Ret'], ['ROE'], 0.6666666666666666)\n",
            "(['Cov'], ['Dietz Ret', 'Return'], 0.5)\n",
            "(['Cov', 'Dietz Ret'], ['Return'], 0.6666666666666666)\n",
            "Frequent Itemsets:\n",
            "[['Cov', 'ROE', 'Return'], ['Cov', 'Dietz Ret', 'ROE'], ['Cov', 'Dietz Ret', 'Return']]\n"
          ]
        }
      ]
    },
    {
      "cell_type": "code",
      "source": [
        "min_support = 3\n",
        "min_confidence = 0.5\n",
        "\n",
        "# Generating association rules\n",
        "association_rules = generate_association_rules(frequent_itemsets, transactions, min_confidence)\n",
        "\n",
        "# Print association rules\n",
        "print(\"Association Rules:\")\n",
        "for rule in association_rules:\n",
        "    print(rule)\n"
      ],
      "metadata": {
        "colab": {
          "base_uri": "https://localhost:8080/"
        },
        "id": "9I_RGAsD-diD",
        "outputId": "e3c72a7e-dcd8-4569-e34f-3ce05af5f513"
      },
      "execution_count": 15,
      "outputs": [
        {
          "output_type": "stream",
          "name": "stdout",
          "text": [
            "Frequent Itemset: [['Cov', 'ROE', 'Return'], ['Cov', 'Dietz Ret', 'ROE'], ['Cov', 'Dietz Ret', 'Return']]\n",
            "Association Rules:\n",
            "(['Cov'], ['ROE', 'Return'], 0.5)\n",
            "(['Cov', 'ROE'], ['Return'], 0.6666666666666666)\n",
            "(['Cov'], ['Dietz Ret', 'ROE'], 0.5)\n",
            "(['Cov', 'Dietz Ret'], ['ROE'], 0.6666666666666666)\n",
            "(['Cov'], ['Dietz Ret', 'Return'], 0.5)\n",
            "(['Cov', 'Dietz Ret'], ['Return'], 0.6666666666666666)\n"
          ]
        }
      ]
    }
  ]
}